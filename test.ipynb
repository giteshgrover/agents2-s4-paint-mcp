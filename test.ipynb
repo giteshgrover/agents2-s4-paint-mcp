{
 "cells": [
  {
   "cell_type": "code",
   "execution_count": 1,
   "id": "4785b0c1",
   "metadata": {},
   "outputs": [
    {
     "ename": "ModuleNotFoundError",
     "evalue": "No module named 'pyautogui'",
     "output_type": "error",
     "traceback": [
      "\u001b[0;31m---------------------------------------------------------------------------\u001b[0m",
      "\u001b[0;31mModuleNotFoundError\u001b[0m                       Traceback (most recent call last)",
      "Cell \u001b[0;32mIn[1], line 1\u001b[0m\n\u001b[0;32m----> 1\u001b[0m \u001b[38;5;28;01mimport\u001b[39;00m \u001b[38;5;21;01mpyautogui\u001b[39;00m\n\u001b[1;32m      2\u001b[0m \u001b[38;5;28;01mimport\u001b[39;00m \u001b[38;5;21;01mtime\u001b[39;00m\n\u001b[1;32m      3\u001b[0m \u001b[38;5;28;01mfrom\u001b[39;00m \u001b[38;5;21;01mpptx\u001b[39;00m \u001b[38;5;28;01mimport\u001b[39;00m Presentation\n",
      "\u001b[0;31mModuleNotFoundError\u001b[0m: No module named 'pyautogui'"
     ]
    }
   ],
   "source": [
    "import pyautogui\n",
    "import time\n",
    "from pptx import Presentation\n",
    "from pptx.util import Inches, Pt\n",
    "from pptx.dml.color import RGBColor\n",
    "\n",
    "prs = Presentation()\n",
    "slide_layout = prs.slide_layouts[6]  # blank slide (or prs.slide_layouts[1] ??)\n",
    "slide = prs.slides.add_slide(slide_layout)\n",
    "\n",
    "pr_name = \"paint_like.pptx\"\n",
    "prs.save(pr_name)\n",
    "print(f\"Presentation saved as {pr_name}\")\n",
    "# Open automatically (macOS)\n",
    "os.system(f\"open {pr_name}\")\n",
    "\n",
    "time.sleep(3)  # give yourself 3s to switch to the drawing app\n",
    "\n",
    "# Draw a rectangle\n",
    "pyautogui.moveTo(200, 200)\n",
    "pyautogui.dragTo(400, 200, duration=0.5)\n",
    "pyautogui.dragTo(400, 400, duration=0.5)\n",
    "pyautogui.dragTo(200, 400, duration=0.5)\n",
    "pyautogui.dragTo(200, 200, duration=0.5)\n",
    "\n",
    "# Add text\n",
    "pyautogui.moveTo(250, 250)\n",
    "pyautogui.click()\n",
    "pyautogui.typewrite(\"Hello from Python!\", interval=0.05)\n"
   ]
  }
 ],
 "metadata": {
  "kernelspec": {
   "display_name": "Python 3",
   "language": "python",
   "name": "python3"
  },
  "language_info": {
   "codemirror_mode": {
    "name": "ipython",
    "version": 3
   },
   "file_extension": ".py",
   "mimetype": "text/x-python",
   "name": "python",
   "nbconvert_exporter": "python",
   "pygments_lexer": "ipython3",
   "version": "3.9.6"
  }
 },
 "nbformat": 4,
 "nbformat_minor": 5
}
